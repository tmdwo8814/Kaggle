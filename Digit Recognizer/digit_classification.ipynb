{
 "cells": [
  {
   "cell_type": "markdown",
   "id": "0b861b04",
   "metadata": {},
   "source": [
    "# score : 0.98996"
   ]
  },
  {
   "cell_type": "markdown",
   "id": "8a7755b0",
   "metadata": {
    "id": "8a7755b0"
   },
   "source": [
    "# Lib"
   ]
  },
  {
   "cell_type": "code",
   "execution_count": 1,
   "id": "YrfHdgfFth1H",
   "metadata": {
    "colab": {
     "base_uri": "https://localhost:8080/"
    },
    "executionInfo": {
     "elapsed": 18422,
     "status": "ok",
     "timestamp": 1681223459149,
     "user": {
      "displayName": "김승재",
      "userId": "04648942213885290519"
     },
     "user_tz": -540
    },
    "id": "YrfHdgfFth1H",
    "outputId": "c0b130e8-98d8-4824-a782-16791aab3341"
   },
   "outputs": [
    {
     "name": "stdout",
     "output_type": "stream",
     "text": [
      "Mounted at /content/drive\n"
     ]
    }
   ],
   "source": [
    "# from google.colab import drive\n",
    "# drive.mount('/content/drive')"
   ]
  },
  {
   "cell_type": "code",
   "execution_count": 2,
   "id": "0f1319d0",
   "metadata": {
    "executionInfo": {
     "elapsed": 4104,
     "status": "ok",
     "timestamp": 1681223471122,
     "user": {
      "displayName": "김승재",
      "userId": "04648942213885290519"
     },
     "user_tz": -540
    },
    "id": "0f1319d0"
   },
   "outputs": [],
   "source": [
    "import pandas as pd\n",
    "import numpy as np\n",
    "\n",
    "import torch\n",
    "import torch.nn as nn\n",
    "import torch.optim as optim\n",
    "from torch.optim import lr_scheduler\n",
    "from torch.utils.data import DataLoader, Dataset\n",
    "from torchvision import transforms, models\n",
    "\n",
    "from PIL import Image, ImageOps, ImageEnhance\n",
    "import numbers\n",
    "\n",
    "import time\n",
    "import copy"
   ]
  },
  {
   "cell_type": "markdown",
   "id": "ceaa6741",
   "metadata": {
    "id": "ceaa6741"
   },
   "source": [
    "# Device"
   ]
  },
  {
   "cell_type": "code",
   "execution_count": 3,
   "id": "01d7ff05",
   "metadata": {
    "colab": {
     "base_uri": "https://localhost:8080/"
    },
    "executionInfo": {
     "elapsed": 263,
     "status": "ok",
     "timestamp": 1681223479337,
     "user": {
      "displayName": "김승재",
      "userId": "04648942213885290519"
     },
     "user_tz": -540
    },
    "id": "01d7ff05",
    "outputId": "babb756d-061c-4ad4-e7ea-06f136c0d10a"
   },
   "outputs": [
    {
     "name": "stdout",
     "output_type": "stream",
     "text": [
      "cuda:0\n"
     ]
    }
   ],
   "source": [
    "device = torch.device(\"cuda:0\" if torch.cuda.is_available() else \"cpu\")\n",
    "print(device)"
   ]
  },
  {
   "cell_type": "markdown",
   "id": "01b5d775",
   "metadata": {
    "id": "01b5d775"
   },
   "source": [
    "# Data"
   ]
  },
  {
   "cell_type": "code",
   "execution_count": 4,
   "id": "e9763640",
   "metadata": {
    "colab": {
     "base_uri": "https://localhost:8080/"
    },
    "executionInfo": {
     "elapsed": 6151,
     "status": "ok",
     "timestamp": 1681223489447,
     "user": {
      "displayName": "김승재",
      "userId": "04648942213885290519"
     },
     "user_tz": -540
    },
    "id": "e9763640",
    "outputId": "780883bc-c28f-4491-f79f-59a11781147c"
   },
   "outputs": [
    {
     "name": "stdout",
     "output_type": "stream",
     "text": [
      "test.csv\n",
      "test shape : (28000, 784)\n",
      "first column : pixel0, last column : pixel783\n",
      "\n",
      "train.csv\n",
      "train shape : (42000, 785)\n",
      "first column : label, last column : pixel783\n",
      "\n",
      "sample_submission.csv\n",
      "sample shape : (28000, 2)\n",
      "first column : ImageId, last column : Label\n",
      "\n"
     ]
    }
   ],
   "source": [
    "# colab ver\n",
    "test = pd.read_csv('/content/drive/MyDrive/digit/Data/test.csv')\n",
    "train = pd.read_csv('/content/drive/MyDrive/digit/Data/train.csv')\n",
    "sample = pd.read_csv('/content/drive/MyDrive/digit/Data/sample_submission.csv')\n",
    "\n",
    "# Local ver\n",
    "# test = pd.read_csv('./Data/test.csv')\n",
    "# train = pd.read_csv('./Data/train.csv')\n",
    "# sample = pd.read_csv('./Data/sample_submission.csv')\n",
    "\n",
    "print('test.csv')\n",
    "print(f'test shape : {test.shape}')\n",
    "print(f'first column : {test.columns[0]}, last column : {test.columns[-1]}')\n",
    "print()\n",
    "print('train.csv')\n",
    "print(f'train shape : {train.shape}')\n",
    "print(f'first column : {train.columns[0]}, last column : {train.columns[-1]}')\n",
    "print()\n",
    "print('sample_submission.csv')\n",
    "print(f'sample shape : {sample.shape}')\n",
    "print(f'first column : {sample.columns[0]}, last column : {sample.columns[-1]}')\n",
    "print()"
   ]
  },
  {
   "cell_type": "markdown",
   "id": "ec7a2876",
   "metadata": {
    "id": "ec7a2876"
   },
   "source": [
    "## Data structure"
   ]
  },
  {
   "cell_type": "code",
   "execution_count": 5,
   "id": "9df86c20",
   "metadata": {
    "executionInfo": {
     "elapsed": 269,
     "status": "ok",
     "timestamp": 1681223493426,
     "user": {
      "displayName": "김승재",
      "userId": "04648942213885290519"
     },
     "user_tz": -540
    },
    "id": "9df86c20"
   },
   "outputs": [],
   "source": [
    "class CustomDataset(Dataset):\n",
    "    # check 1 : train, 0 : test\n",
    "    def __init__(self, data_path, check):\n",
    "        df = pd.read_csv(data_path)\n",
    "        \n",
    "        if check:\n",
    "            self.transform = transforms.Compose([\n",
    "                transforms.ToPILImage(), \n",
    "                transforms.RandomRotation(degrees=20),\n",
    "                transforms.ToTensor(), \n",
    "                transforms.Normalize(mean=(0.5,), std=(0.5,))\n",
    "            ])\n",
    "        else:\n",
    "            self.transform = transforms.Compose([\n",
    "                transforms.ToPILImage(), \n",
    "                transforms.ToTensor(), \n",
    "                transforms.Normalize(mean=(0.5,), std=(0.5,))\n",
    "            ])\n",
    "        \n",
    "        # test data\n",
    "        if len(df.columns) == 784:\n",
    "            # reshape(), (28000, 784) -> (28000, 28, 28)\n",
    "            # -1은 이전 값\n",
    "            self.X = df.values.reshape((-1, 28, 28)).astype(np.uint8)[:,:,:,None]\n",
    "            self.y = None\n",
    "        # train data    \n",
    "        else:\n",
    "            self.X = df.iloc[:, 1:].values.reshape((-1, 28, 28)).astype(np.uint8)[:,:,:,None]\n",
    "            self.y = torch.from_numpy(df.iloc[:, 0].values)\n",
    "        \n",
    "        \n",
    "    def __len__(self):\n",
    "        return len(self.X)\n",
    "    \n",
    "    def __getitem__(self, idx):\n",
    "        if self.y is not None: \n",
    "            return self.transform(self.X[idx]), self.y[idx]\n",
    "        else:\n",
    "            return self.transform(self.X[idx])"
   ]
  },
  {
   "cell_type": "markdown",
   "id": "0a67128d",
   "metadata": {
    "id": "0a67128d"
   },
   "source": [
    "# Data loader"
   ]
  },
  {
   "cell_type": "code",
   "execution_count": 6,
   "id": "42ca0f05",
   "metadata": {
    "executionInfo": {
     "elapsed": 5317,
     "status": "ok",
     "timestamp": 1681223501165,
     "user": {
      "displayName": "김승재",
      "userId": "04648942213885290519"
     },
     "user_tz": -540
    },
    "id": "42ca0f05"
   },
   "outputs": [],
   "source": [
    "# colab ver\n",
    "train_path = '/content/drive/MyDrive/digit/Data/train.csv'\n",
    "test_path = '/content/drive/MyDrive/digit/Data/test.csv'\n",
    "# Local ver\n",
    "# train_path = './Data/train.csv'\n",
    "# test_path = './Data/test.csv'\n",
    "\n",
    "train_dataset = CustomDataset(train_path, 1)\n",
    "test_dataset = CustomDataset(test_path, 0)\n",
    "\n",
    "train_loader = torch.utils.data.DataLoader(dataset=train_dataset,\n",
    "                                           batch_size=64,\n",
    "                                           shuffle=True)\n",
    "test_loader = torch.utils.data.DataLoader(dataset=test_dataset,\n",
    "                                           batch_size=64,\n",
    "                                           shuffle=False)"
   ]
  },
  {
   "cell_type": "markdown",
   "id": "03c47092",
   "metadata": {
    "id": "03c47092"
   },
   "source": [
    "# Network"
   ]
  },
  {
   "cell_type": "code",
   "execution_count": 14,
   "id": "4fc7dd9f",
   "metadata": {
    "colab": {
     "base_uri": "https://localhost:8080/"
    },
    "executionInfo": {
     "elapsed": 629,
     "status": "ok",
     "timestamp": 1681223786216,
     "user": {
      "displayName": "김승재",
      "userId": "04648942213885290519"
     },
     "user_tz": -540
    },
    "id": "4fc7dd9f",
    "outputId": "274a68d3-fffa-45ec-ed68-6b3be9b73e74"
   },
   "outputs": [
    {
     "name": "stderr",
     "output_type": "stream",
     "text": [
      "/usr/local/lib/python3.9/dist-packages/torchvision/models/_utils.py:208: UserWarning: The parameter 'pretrained' is deprecated since 0.13 and may be removed in the future, please use 'weights' instead.\n",
      "  warnings.warn(\n",
      "/usr/local/lib/python3.9/dist-packages/torchvision/models/_utils.py:223: UserWarning: Arguments other than a weight enum or `None` for 'weights' are deprecated since 0.13 and may be removed in the future. The current behavior is equivalent to passing `weights=ResNet50_Weights.IMAGENET1K_V1`. You can also use `weights=ResNet50_Weights.DEFAULT` to get the most up-to-date weights.\n",
      "  warnings.warn(msg)\n"
     ]
    }
   ],
   "source": [
    "model_ft = models.resnet50(pretrained=True)"
   ]
  },
  {
   "cell_type": "code",
   "execution_count": 15,
   "id": "269d43cb",
   "metadata": {
    "executionInfo": {
     "elapsed": 6,
     "status": "ok",
     "timestamp": 1681223789480,
     "user": {
      "displayName": "김승재",
      "userId": "04648942213885290519"
     },
     "user_tz": -540
    },
    "id": "269d43cb"
   },
   "outputs": [],
   "source": [
    "# channel setting -> gray and color image\n",
    "model_ft.conv1 = nn.Conv2d(1, 64, kernel_size=(7, 7), stride=(2, 2), padding=(3, 3), bias=False)\n",
    "\n",
    "num_ftrs = model_ft.fc.in_features\n",
    "# Linear(in_ftrs, out_ftrs)\n",
    "# out_ftrs가 0~9 이기에 10\n",
    "model_ft.fc = torch.nn.Linear(num_ftrs, 10, bias=True)\n",
    "model_ft = model_ft.to(device)\n",
    "\n",
    "criterion = nn.CrossEntropyLoss()\n",
    "\n",
    "optimizer = optim.Adam(model_ft.parameters(), lr=0.003)\n",
    "\n",
    "exp_lr_scheduler = lr_scheduler.StepLR(optimizer, step_size=7, gamma=0.1)"
   ]
  },
  {
   "cell_type": "markdown",
   "id": "37ea8f3a",
   "metadata": {
    "id": "37ea8f3a"
   },
   "source": [
    "# Train"
   ]
  },
  {
   "cell_type": "code",
   "execution_count": 18,
   "id": "335913ae",
   "metadata": {
    "executionInfo": {
     "elapsed": 4,
     "status": "ok",
     "timestamp": 1681223897534,
     "user": {
      "displayName": "김승재",
      "userId": "04648942213885290519"
     },
     "user_tz": -540
    },
    "id": "335913ae"
   },
   "outputs": [],
   "source": [
    "def train(model, criterion, optimizer, scheduler, num_epoches = 10):\n",
    "    since = time.time()\n",
    "    \n",
    "    best_model_wts = copy.deepcopy(model.state_dict())\n",
    "    best_acc = 0.0\n",
    "    \n",
    "    \n",
    "    for epoch in range(num_epoches):\n",
    "        print(f'Epoch: {epoch} / {num_epoches-1}')\n",
    "        print('-'*10)\n",
    "        \n",
    "        model.train()\n",
    "        \n",
    "        train_loss = 0.0\n",
    "        train_acc = 0.0\n",
    "        train_total = 0\n",
    "        \n",
    "        \n",
    "        for inputs, labels in train_loader:\n",
    "            inputs = inputs.to(device)\n",
    "            labels = labels.to(device)\n",
    "            \n",
    "            optimizer.zero_grad()\n",
    "            \n",
    "            outputs = model(inputs)\n",
    "            loss = criterion(outputs, labels)\n",
    "            \n",
    "            loss.backward()\n",
    "            optimizer.step()\n",
    "            \n",
    "            _, preds = torch.max(outputs.data, 1)\n",
    "            \n",
    "            \n",
    "            train_loss += loss.item() * inputs.size(0)\n",
    "            train_acc += (preds == labels).sum().item()\n",
    "            train_total += labels.size(0)\n",
    "            \n",
    "        scheduler.step()\n",
    "            \n",
    "        epoch_loss = train_loss / train_total\n",
    "        epoch_acc = train_acc / train_total\n",
    "        \n",
    "        print(f'epoch loss : {epoch_loss:.4f}, epoch acc : {epoch_acc:.4f}')\n",
    "        \n",
    "        # better weight save\n",
    "        if epoch_acc > best_acc:\n",
    "            best_acc = epoch_acc\n",
    "            best_model_wts = copy.deepcopy(model.state_dict())\n",
    "    \n",
    "    # time\n",
    "    time_elapsed = time.time() - since\n",
    "    print(f'Training complete in {time_elapsed // 60:.0f}m {time_elapsed % 60:.0f}s')\n",
    "    \n",
    "    # best weight of model\n",
    "    model.load_state_dict(best_model_wts)\n",
    "    return model\n",
    "    \n",
    "            "
   ]
  },
  {
   "cell_type": "code",
   "execution_count": 19,
   "id": "1df5913a",
   "metadata": {
    "colab": {
     "base_uri": "https://localhost:8080/"
    },
    "executionInfo": {
     "elapsed": 423706,
     "status": "ok",
     "timestamp": 1681224326914,
     "user": {
      "displayName": "김승재",
      "userId": "04648942213885290519"
     },
     "user_tz": -540
    },
    "id": "1df5913a",
    "outputId": "2fc3911a-b17b-4605-ac61-35ab8b47731b"
   },
   "outputs": [
    {
     "name": "stdout",
     "output_type": "stream",
     "text": [
      "Epoch: 0 / 9\n",
      "----------\n",
      "epoch loss : 0.3075, epoch acc : 0.9046\n",
      "Epoch: 1 / 9\n",
      "----------\n",
      "epoch loss : 0.3586, epoch acc : 0.8979\n",
      "Epoch: 2 / 9\n",
      "----------\n",
      "epoch loss : 0.1490, epoch acc : 0.9550\n",
      "Epoch: 3 / 9\n",
      "----------\n",
      "epoch loss : 0.1066, epoch acc : 0.9685\n",
      "Epoch: 4 / 9\n",
      "----------\n",
      "epoch loss : 0.1434, epoch acc : 0.9610\n",
      "Epoch: 5 / 9\n",
      "----------\n",
      "epoch loss : 0.0877, epoch acc : 0.9746\n",
      "Epoch: 6 / 9\n",
      "----------\n",
      "epoch loss : 0.1293, epoch acc : 0.9647\n",
      "Epoch: 7 / 9\n",
      "----------\n",
      "epoch loss : 0.0537, epoch acc : 0.9831\n",
      "Epoch: 8 / 9\n",
      "----------\n",
      "epoch loss : 0.0441, epoch acc : 0.9865\n",
      "Epoch: 9 / 9\n",
      "----------\n",
      "epoch loss : 0.0398, epoch acc : 0.9870\n",
      "Training complete in 7m 4s\n"
     ]
    }
   ],
   "source": [
    "model_ft = train(model_ft, criterion, optimizer, exp_lr_scheduler, num_epoches = 10)"
   ]
  },
  {
   "cell_type": "markdown",
   "id": "82d31380",
   "metadata": {
    "id": "82d31380"
   },
   "source": [
    "# Predict"
   ]
  },
  {
   "cell_type": "code",
   "execution_count": 20,
   "id": "4991e201",
   "metadata": {
    "executionInfo": {
     "elapsed": 12425,
     "status": "ok",
     "timestamp": 1681224349699,
     "user": {
      "displayName": "김승재",
      "userId": "04648942213885290519"
     },
     "user_tz": -540
    },
    "id": "4991e201"
   },
   "outputs": [],
   "source": [
    "model_ft.eval()\n",
    "test_preds = []\n",
    "\n",
    "with torch.no_grad():\n",
    "    for inputs in test_loader:\n",
    "        inputs = inputs.to(device)\n",
    "        \n",
    "        outputs = model_ft(inputs)\n",
    "        _, preds = torch.max(outputs.data, 1)\n",
    "        test_preds.extend(preds.cpu().numpy())"
   ]
  },
  {
   "cell_type": "code",
   "execution_count": 21,
   "id": "d87caaf0",
   "metadata": {
    "executionInfo": {
     "elapsed": 249,
     "status": "ok",
     "timestamp": 1681224355744,
     "user": {
      "displayName": "김승재",
      "userId": "04648942213885290519"
     },
     "user_tz": -540
    },
    "id": "d87caaf0"
   },
   "outputs": [],
   "source": [
    "sample['Label'] = test_preds\n",
    "sample.to_csv('final.csv', index=False)"
   ]
  }
 ],
 "metadata": {
  "accelerator": "GPU",
  "colab": {
   "provenance": []
  },
  "gpuClass": "standard",
  "kernelspec": {
   "display_name": "Python 3 (ipykernel)",
   "language": "python",
   "name": "python3"
  },
  "language_info": {
   "codemirror_mode": {
    "name": "ipython",
    "version": 3
   },
   "file_extension": ".py",
   "mimetype": "text/x-python",
   "name": "python",
   "nbconvert_exporter": "python",
   "pygments_lexer": "ipython3",
   "version": "3.9.12"
  }
 },
 "nbformat": 4,
 "nbformat_minor": 5
}
